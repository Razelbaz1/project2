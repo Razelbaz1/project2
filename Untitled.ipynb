{
 "cells": [
  {
   "cell_type": "code",
   "execution_count": 15,
   "id": "3eb6ec70-0f09-4749-bfda-7025345effbb",
   "metadata": {},
   "outputs": [
    {
     "name": "stdout",
     "output_type": "stream",
     "text": [
      "The watermark extension is already loaded. To reload it, use:\n",
      "  %reload_ext watermark\n",
      "Python implementation: CPython\n",
      "Python version       : 3.10.2\n",
      "IPython version      : 8.1.1\n",
      "\n",
      "pandas      : 1.4.1\n",
      "numpy       : 1.22.2\n",
      "sklearn     : 1.0.2\n",
      "scikit-learn: 1.0.2\n",
      "watermark   : 2.3.0\n",
      "seaborn     : 0.11.2\n",
      "matplotlib  : 3.5.1\n",
      "csv         : 1.0\n",
      "plotly      : 5.7.0\n",
      "\n",
      "Compiler    : MSC v.1929 64 bit (AMD64)\n",
      "OS          : Windows\n",
      "Release     : 10\n",
      "Machine     : AMD64\n",
      "Processor   : Intel64 Family 6 Model 142 Stepping 10, GenuineIntel\n",
      "CPU cores   : 8\n",
      "Architecture: 64bit\n",
      "\n",
      "\n",
      "Last updated: Thu May 19 2022 16:47:11שעון קיץ ירושלים\n",
      "\n"
     ]
    }
   ],
   "source": [
    "%load_ext watermark\n",
    "\n",
    "%watermark -v -m -p pandas,numpy,sklearn,scikit-learn,watermark,seaborn,matplotlib,csv,plotly\n",
    "\n",
    "print('')\n",
    "\n",
    "%watermark -u -n -t -z "
   ]
  },
  {
   "cell_type": "code",
   "execution_count": null,
   "id": "eaf72431-d1ae-420d-b60a-cc39cd5a8be6",
   "metadata": {},
   "outputs": [],
   "source": []
  }
 ],
 "metadata": {
  "kernelspec": {
   "display_name": "Python 3 (ipykernel)",
   "language": "python",
   "name": "python3"
  },
  "language_info": {
   "codemirror_mode": {
    "name": "ipython",
    "version": 3
   },
   "file_extension": ".py",
   "mimetype": "text/x-python",
   "name": "python",
   "nbconvert_exporter": "python",
   "pygments_lexer": "ipython3",
   "version": "3.10.2"
  }
 },
 "nbformat": 4,
 "nbformat_minor": 5
}
